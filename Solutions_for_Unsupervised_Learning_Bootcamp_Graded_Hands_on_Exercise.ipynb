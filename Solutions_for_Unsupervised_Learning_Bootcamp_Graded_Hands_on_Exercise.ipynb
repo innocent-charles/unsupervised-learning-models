{
  "nbformat": 4,
  "nbformat_minor": 0,
  "metadata": {
    "kernelspec": {
      "display_name": "Python 3",
      "language": "python",
      "name": "python3"
    },
    "language_info": {
      "codemirror_mode": {
        "name": "ipython",
        "version": 3
      },
      "file_extension": ".py",
      "mimetype": "text/x-python",
      "name": "python",
      "nbconvert_exporter": "python",
      "pygments_lexer": "ipython3",
      "version": "3.7.3"
    },
    "colab": {
      "name": "Solutions for Unsupervised Learning Bootcamp Graded Hands-on Exercise.ipynb",
      "provenance": []
    }
  },
  "cells": [
    {
      "cell_type": "markdown",
      "metadata": {
        "id": "4vjqkJbJBmGA"
      },
      "source": [
        "### **Overview**\n",
        "\n",
        "Throughout this assignment, you will be performing specific well-defined tasks that’ll strengthen your concepts in Unsupervised Learning. We will be using the facebook live sellers dataset for Task 1 & 2 of the assignment and here is a brief context about the same - The data is about live selling feature on the Facebook platform. Each record consists of information about the time live information of sale is posted to Facebook and engagements in the data. The engagements are regular Facebook interactions such as share and emotion rection.\n",
        "\n",
        "As part of the assignment, you will have to accomplish the below tasks.\n",
        "\n",
        "\n",
        "**Author:** Chintoo Kumar"
      ]
    },
    {
      "cell_type": "markdown",
      "metadata": {
        "id": "Y5U0zsQcBW2j"
      },
      "source": [
        "###**Dataset**\n",
        "\n",
        "Dataset Link: https://archive.ics.uci.edu/ml/datasets/Facebook+Live+Sellers+in+Thailand\n",
        "\n",
        "**About the dataset:**\n",
        "\n",
        "The Facebook Live Sellers in Thailand is a dataset curated in UCI Machine Learning Datasets. It data contains 7050 observations and twelve attributes. In this assignment, the preprocessed dataset contains 7050 instances and 10 attributes. The details of the attributes are as follows:\n",
        "\n",
        "* status_type: The type of shared status\n",
        "* num_reactions: Number of glimpses over a shared status by viewers\n",
        "* num_comments: Number of comments on that particular shared status\n",
        "* num_shares: Toal number of shares by peers\n",
        "* num_likes: Number of likes on the post\n",
        "* num_loves: Number of love emojis of that shared post\n",
        "* num_wows: Number of wow emojis on that post\n",
        "* num_hahas: Number of haha emojis on that post\n",
        "* num_sads: Number of sad emojis on that post\n",
        "* num_angrys: Number of angry emojis on that post"
      ]
    },
    {
      "cell_type": "markdown",
      "metadata": {
        "id": "Nt260k7VBW2k"
      },
      "source": [
        "### **Task 1: Data loading and Data Analysis**\n",
        "\n",
        "* Load the data file into a dataframe object : df\n",
        "* Display the first 5 observation of the dataset\n",
        "* Display a concise summary of the provided data and list out 2 observations/inferences that you observe from the result. You can use the info() method for this.\n",
        "* Perform EDA viz. Is there any missing values in each column of the provided dataset\n",
        "* Display all the unique status_type of the dataframe\n",
        "* Convert categorical variable, i.e., status_type into numerical representation using a label encoder"
      ]
    },
    {
      "cell_type": "code",
      "metadata": {
        "id": "_UeYC90KDs12"
      },
      "source": [
        "##Load the data file into a dataframe object : df\n",
        "\n",
        "import pandas as pd\n",
        "df = pd.read_csv(\"https://archive.ics.uci.edu/ml/machine-learning-databases/00488/Live_20210128.csv\")\n",
        "df = df.drop(['status_id','status_published','Column1','Column2','Column3','Column4'],axis=1)"
      ],
      "execution_count": null,
      "outputs": []
    },
    {
      "cell_type": "code",
      "metadata": {
        "colab": {
          "base_uri": "https://localhost:8080/",
          "height": 206
        },
        "id": "3QBZvyZkU6g7",
        "outputId": "e1e9679b-5911-4e0d-8503-bc6c43645d84"
      },
      "source": [
        "##Display the first 5 observation of the dataset\n",
        "\n",
        "df.head()"
      ],
      "execution_count": null,
      "outputs": [
        {
          "output_type": "execute_result",
          "data": {
            "text/html": [
              "<div>\n",
              "<style scoped>\n",
              "    .dataframe tbody tr th:only-of-type {\n",
              "        vertical-align: middle;\n",
              "    }\n",
              "\n",
              "    .dataframe tbody tr th {\n",
              "        vertical-align: top;\n",
              "    }\n",
              "\n",
              "    .dataframe thead th {\n",
              "        text-align: right;\n",
              "    }\n",
              "</style>\n",
              "<table border=\"1\" class=\"dataframe\">\n",
              "  <thead>\n",
              "    <tr style=\"text-align: right;\">\n",
              "      <th></th>\n",
              "      <th>status_type</th>\n",
              "      <th>num_reactions</th>\n",
              "      <th>num_comments</th>\n",
              "      <th>num_shares</th>\n",
              "      <th>num_likes</th>\n",
              "      <th>num_loves</th>\n",
              "      <th>num_wows</th>\n",
              "      <th>num_hahas</th>\n",
              "      <th>num_sads</th>\n",
              "      <th>num_angrys</th>\n",
              "    </tr>\n",
              "  </thead>\n",
              "  <tbody>\n",
              "    <tr>\n",
              "      <th>0</th>\n",
              "      <td>video</td>\n",
              "      <td>529</td>\n",
              "      <td>512</td>\n",
              "      <td>262</td>\n",
              "      <td>432</td>\n",
              "      <td>92</td>\n",
              "      <td>3</td>\n",
              "      <td>1</td>\n",
              "      <td>1</td>\n",
              "      <td>0</td>\n",
              "    </tr>\n",
              "    <tr>\n",
              "      <th>1</th>\n",
              "      <td>photo</td>\n",
              "      <td>150</td>\n",
              "      <td>0</td>\n",
              "      <td>0</td>\n",
              "      <td>150</td>\n",
              "      <td>0</td>\n",
              "      <td>0</td>\n",
              "      <td>0</td>\n",
              "      <td>0</td>\n",
              "      <td>0</td>\n",
              "    </tr>\n",
              "    <tr>\n",
              "      <th>2</th>\n",
              "      <td>video</td>\n",
              "      <td>227</td>\n",
              "      <td>236</td>\n",
              "      <td>57</td>\n",
              "      <td>204</td>\n",
              "      <td>21</td>\n",
              "      <td>1</td>\n",
              "      <td>1</td>\n",
              "      <td>0</td>\n",
              "      <td>0</td>\n",
              "    </tr>\n",
              "    <tr>\n",
              "      <th>3</th>\n",
              "      <td>photo</td>\n",
              "      <td>111</td>\n",
              "      <td>0</td>\n",
              "      <td>0</td>\n",
              "      <td>111</td>\n",
              "      <td>0</td>\n",
              "      <td>0</td>\n",
              "      <td>0</td>\n",
              "      <td>0</td>\n",
              "      <td>0</td>\n",
              "    </tr>\n",
              "    <tr>\n",
              "      <th>4</th>\n",
              "      <td>photo</td>\n",
              "      <td>213</td>\n",
              "      <td>0</td>\n",
              "      <td>0</td>\n",
              "      <td>204</td>\n",
              "      <td>9</td>\n",
              "      <td>0</td>\n",
              "      <td>0</td>\n",
              "      <td>0</td>\n",
              "      <td>0</td>\n",
              "    </tr>\n",
              "  </tbody>\n",
              "</table>\n",
              "</div>"
            ],
            "text/plain": [
              "  status_type  num_reactions  num_comments  ...  num_hahas  num_sads  num_angrys\n",
              "0       video            529           512  ...          1         1           0\n",
              "1       photo            150             0  ...          0         0           0\n",
              "2       video            227           236  ...          1         0           0\n",
              "3       photo            111             0  ...          0         0           0\n",
              "4       photo            213             0  ...          0         0           0\n",
              "\n",
              "[5 rows x 10 columns]"
            ]
          },
          "metadata": {},
          "execution_count": 53
        }
      ]
    },
    {
      "cell_type": "code",
      "metadata": {
        "colab": {
          "base_uri": "https://localhost:8080/"
        },
        "id": "X66rD5W4VFKe",
        "outputId": "16b92b8a-1625-4b86-f5a8-27edf57eb9ef"
      },
      "source": [
        "##Display a concise summary of the provided data and list out 2 observations/inferences that you observe from the result. You can use the info() method for this.\n",
        "\n",
        "df.info()"
      ],
      "execution_count": null,
      "outputs": [
        {
          "output_type": "stream",
          "name": "stdout",
          "text": [
            "<class 'pandas.core.frame.DataFrame'>\n",
            "RangeIndex: 7050 entries, 0 to 7049\n",
            "Data columns (total 10 columns):\n",
            " #   Column         Non-Null Count  Dtype \n",
            "---  ------         --------------  ----- \n",
            " 0   status_type    7050 non-null   object\n",
            " 1   num_reactions  7050 non-null   int64 \n",
            " 2   num_comments   7050 non-null   int64 \n",
            " 3   num_shares     7050 non-null   int64 \n",
            " 4   num_likes      7050 non-null   int64 \n",
            " 5   num_loves      7050 non-null   int64 \n",
            " 6   num_wows       7050 non-null   int64 \n",
            " 7   num_hahas      7050 non-null   int64 \n",
            " 8   num_sads       7050 non-null   int64 \n",
            " 9   num_angrys     7050 non-null   int64 \n",
            "dtypes: int64(9), object(1)\n",
            "memory usage: 550.9+ KB\n"
          ]
        }
      ]
    },
    {
      "cell_type": "code",
      "metadata": {
        "colab": {
          "base_uri": "https://localhost:8080/"
        },
        "id": "xUajJaimftUe",
        "outputId": "93a0ca2d-daa9-4504-c9d8-5b1d98a3468d"
      },
      "source": [
        "##Perform EDA viz. Is there any missing values in each column of the provided dataset\n",
        "\n",
        "df.isnull().sum()"
      ],
      "execution_count": null,
      "outputs": [
        {
          "output_type": "execute_result",
          "data": {
            "text/plain": [
              "status_type      0\n",
              "num_reactions    0\n",
              "num_comments     0\n",
              "num_shares       0\n",
              "num_likes        0\n",
              "num_loves        0\n",
              "num_wows         0\n",
              "num_hahas        0\n",
              "num_sads         0\n",
              "num_angrys       0\n",
              "dtype: int64"
            ]
          },
          "metadata": {},
          "execution_count": 55
        }
      ]
    },
    {
      "cell_type": "code",
      "metadata": {
        "colab": {
          "base_uri": "https://localhost:8080/"
        },
        "id": "ikxPmvgYgfOd",
        "outputId": "0ca4eeff-068f-4a6e-ba5b-5384b4d7ca76"
      },
      "source": [
        "##Display all the unique status_type of the dataframe\n",
        "\n",
        "df.status_type.unique()"
      ],
      "execution_count": null,
      "outputs": [
        {
          "output_type": "execute_result",
          "data": {
            "text/plain": [
              "array(['video', 'photo', 'link', 'status'], dtype=object)"
            ]
          },
          "metadata": {},
          "execution_count": 56
        }
      ]
    },
    {
      "cell_type": "code",
      "metadata": {
        "id": "dH-j9S2Qg-Iz",
        "colab": {
          "base_uri": "https://localhost:8080/",
          "height": 424
        },
        "outputId": "60ae5b66-e158-49aa-b100-48fd5066be68"
      },
      "source": [
        "##Convert categorical variable, i.e., status_type into numerical representation using a label encoder\n",
        "\n",
        "from sklearn.preprocessing import LabelEncoder\n",
        "\n",
        "le = LabelEncoder()\n",
        "df['status_type']=le.fit_transform(df['status_type'])\n",
        "df"
      ],
      "execution_count": null,
      "outputs": [
        {
          "output_type": "execute_result",
          "data": {
            "text/html": [
              "<div>\n",
              "<style scoped>\n",
              "    .dataframe tbody tr th:only-of-type {\n",
              "        vertical-align: middle;\n",
              "    }\n",
              "\n",
              "    .dataframe tbody tr th {\n",
              "        vertical-align: top;\n",
              "    }\n",
              "\n",
              "    .dataframe thead th {\n",
              "        text-align: right;\n",
              "    }\n",
              "</style>\n",
              "<table border=\"1\" class=\"dataframe\">\n",
              "  <thead>\n",
              "    <tr style=\"text-align: right;\">\n",
              "      <th></th>\n",
              "      <th>status_type</th>\n",
              "      <th>num_reactions</th>\n",
              "      <th>num_comments</th>\n",
              "      <th>num_shares</th>\n",
              "      <th>num_likes</th>\n",
              "      <th>num_loves</th>\n",
              "      <th>num_wows</th>\n",
              "      <th>num_hahas</th>\n",
              "      <th>num_sads</th>\n",
              "      <th>num_angrys</th>\n",
              "    </tr>\n",
              "  </thead>\n",
              "  <tbody>\n",
              "    <tr>\n",
              "      <th>0</th>\n",
              "      <td>3</td>\n",
              "      <td>529</td>\n",
              "      <td>512</td>\n",
              "      <td>262</td>\n",
              "      <td>432</td>\n",
              "      <td>92</td>\n",
              "      <td>3</td>\n",
              "      <td>1</td>\n",
              "      <td>1</td>\n",
              "      <td>0</td>\n",
              "    </tr>\n",
              "    <tr>\n",
              "      <th>1</th>\n",
              "      <td>1</td>\n",
              "      <td>150</td>\n",
              "      <td>0</td>\n",
              "      <td>0</td>\n",
              "      <td>150</td>\n",
              "      <td>0</td>\n",
              "      <td>0</td>\n",
              "      <td>0</td>\n",
              "      <td>0</td>\n",
              "      <td>0</td>\n",
              "    </tr>\n",
              "    <tr>\n",
              "      <th>2</th>\n",
              "      <td>3</td>\n",
              "      <td>227</td>\n",
              "      <td>236</td>\n",
              "      <td>57</td>\n",
              "      <td>204</td>\n",
              "      <td>21</td>\n",
              "      <td>1</td>\n",
              "      <td>1</td>\n",
              "      <td>0</td>\n",
              "      <td>0</td>\n",
              "    </tr>\n",
              "    <tr>\n",
              "      <th>3</th>\n",
              "      <td>1</td>\n",
              "      <td>111</td>\n",
              "      <td>0</td>\n",
              "      <td>0</td>\n",
              "      <td>111</td>\n",
              "      <td>0</td>\n",
              "      <td>0</td>\n",
              "      <td>0</td>\n",
              "      <td>0</td>\n",
              "      <td>0</td>\n",
              "    </tr>\n",
              "    <tr>\n",
              "      <th>4</th>\n",
              "      <td>1</td>\n",
              "      <td>213</td>\n",
              "      <td>0</td>\n",
              "      <td>0</td>\n",
              "      <td>204</td>\n",
              "      <td>9</td>\n",
              "      <td>0</td>\n",
              "      <td>0</td>\n",
              "      <td>0</td>\n",
              "      <td>0</td>\n",
              "    </tr>\n",
              "    <tr>\n",
              "      <th>...</th>\n",
              "      <td>...</td>\n",
              "      <td>...</td>\n",
              "      <td>...</td>\n",
              "      <td>...</td>\n",
              "      <td>...</td>\n",
              "      <td>...</td>\n",
              "      <td>...</td>\n",
              "      <td>...</td>\n",
              "      <td>...</td>\n",
              "      <td>...</td>\n",
              "    </tr>\n",
              "    <tr>\n",
              "      <th>7045</th>\n",
              "      <td>1</td>\n",
              "      <td>89</td>\n",
              "      <td>0</td>\n",
              "      <td>0</td>\n",
              "      <td>89</td>\n",
              "      <td>0</td>\n",
              "      <td>0</td>\n",
              "      <td>0</td>\n",
              "      <td>0</td>\n",
              "      <td>0</td>\n",
              "    </tr>\n",
              "    <tr>\n",
              "      <th>7046</th>\n",
              "      <td>1</td>\n",
              "      <td>16</td>\n",
              "      <td>0</td>\n",
              "      <td>0</td>\n",
              "      <td>14</td>\n",
              "      <td>1</td>\n",
              "      <td>0</td>\n",
              "      <td>1</td>\n",
              "      <td>0</td>\n",
              "      <td>0</td>\n",
              "    </tr>\n",
              "    <tr>\n",
              "      <th>7047</th>\n",
              "      <td>1</td>\n",
              "      <td>2</td>\n",
              "      <td>0</td>\n",
              "      <td>0</td>\n",
              "      <td>1</td>\n",
              "      <td>1</td>\n",
              "      <td>0</td>\n",
              "      <td>0</td>\n",
              "      <td>0</td>\n",
              "      <td>0</td>\n",
              "    </tr>\n",
              "    <tr>\n",
              "      <th>7048</th>\n",
              "      <td>1</td>\n",
              "      <td>351</td>\n",
              "      <td>12</td>\n",
              "      <td>22</td>\n",
              "      <td>349</td>\n",
              "      <td>2</td>\n",
              "      <td>0</td>\n",
              "      <td>0</td>\n",
              "      <td>0</td>\n",
              "      <td>0</td>\n",
              "    </tr>\n",
              "    <tr>\n",
              "      <th>7049</th>\n",
              "      <td>1</td>\n",
              "      <td>17</td>\n",
              "      <td>0</td>\n",
              "      <td>0</td>\n",
              "      <td>17</td>\n",
              "      <td>0</td>\n",
              "      <td>0</td>\n",
              "      <td>0</td>\n",
              "      <td>0</td>\n",
              "      <td>0</td>\n",
              "    </tr>\n",
              "  </tbody>\n",
              "</table>\n",
              "<p>7050 rows × 10 columns</p>\n",
              "</div>"
            ],
            "text/plain": [
              "      status_type  num_reactions  num_comments  ...  num_hahas  num_sads  num_angrys\n",
              "0               3            529           512  ...          1         1           0\n",
              "1               1            150             0  ...          0         0           0\n",
              "2               3            227           236  ...          1         0           0\n",
              "3               1            111             0  ...          0         0           0\n",
              "4               1            213             0  ...          0         0           0\n",
              "...           ...            ...           ...  ...        ...       ...         ...\n",
              "7045            1             89             0  ...          0         0           0\n",
              "7046            1             16             0  ...          1         0           0\n",
              "7047            1              2             0  ...          0         0           0\n",
              "7048            1            351            12  ...          0         0           0\n",
              "7049            1             17             0  ...          0         0           0\n",
              "\n",
              "[7050 rows x 10 columns]"
            ]
          },
          "metadata": {},
          "execution_count": 57
        }
      ]
    },
    {
      "cell_type": "markdown",
      "metadata": {
        "id": "iG3wQpWzDjp1"
      },
      "source": [
        "###**Task 2: Feature Scaling**\n",
        "\n",
        "\n",
        "*   Perform normalization to scale numerical data prior to modeling. You may use Min-max scaling technique\n",
        "*   Use Elbow method to determine the number of cluster to be formed\n",
        "*   Verify optimal number of clusers on the basis of silhouette scores\n",
        "*   Assigning cluster label to each instance of the dataframe\n",
        "*   Validating obtained clusters using external cluster validation approaches like rand_score and adjusted_rand_score\n"
      ]
    },
    {
      "cell_type": "code",
      "metadata": {
        "colab": {
          "base_uri": "https://localhost:8080/"
        },
        "id": "UQIniAXMitx3",
        "outputId": "b6a6fa20-61dc-4dc5-bc19-4cd87f9d1b2a"
      },
      "source": [
        "##Perform normalization to scale numerical data prior to modeling. You may use Min-max scaling technique\n",
        "\n",
        "from sklearn.preprocessing import MinMaxScaler\n",
        "scale=MinMaxScaler()\n",
        "scale.fit(df)\n",
        "scaled_data=scale.transform(df)\n",
        "scaled_data"
      ],
      "execution_count": null,
      "outputs": [
        {
          "output_type": "execute_result",
          "data": {
            "text/plain": [
              "array([[1.00000000e+00, 1.12314225e-01, 2.43925679e-02, ...,\n",
              "        6.36942675e-03, 1.96078431e-02, 0.00000000e+00],\n",
              "       [3.33333333e-01, 3.18471338e-02, 0.00000000e+00, ...,\n",
              "        0.00000000e+00, 0.00000000e+00, 0.00000000e+00],\n",
              "       [1.00000000e+00, 4.81953291e-02, 1.12434493e-02, ...,\n",
              "        6.36942675e-03, 0.00000000e+00, 0.00000000e+00],\n",
              "       ...,\n",
              "       [3.33333333e-01, 4.24628450e-04, 0.00000000e+00, ...,\n",
              "        0.00000000e+00, 0.00000000e+00, 0.00000000e+00],\n",
              "       [3.33333333e-01, 7.45222930e-02, 5.71700810e-04, ...,\n",
              "        0.00000000e+00, 0.00000000e+00, 0.00000000e+00],\n",
              "       [3.33333333e-01, 3.60934183e-03, 0.00000000e+00, ...,\n",
              "        0.00000000e+00, 0.00000000e+00, 0.00000000e+00]])"
            ]
          },
          "metadata": {},
          "execution_count": 58
        }
      ]
    },
    {
      "cell_type": "code",
      "metadata": {
        "colab": {
          "base_uri": "https://localhost:8080/",
          "height": 404
        },
        "id": "ZwrznWEik2H1",
        "outputId": "42158d36-5146-496a-c918-cdfe037acaa2"
      },
      "source": [
        "##Use Elbow method to determine the number of cluster to be formed\n",
        "\n",
        "from sklearn.cluster import KMeans\n",
        "import matplotlib.pyplot as plt \n",
        "K=range(1,11)\n",
        "wcss=[]\n",
        "for k in K:\n",
        "  km=KMeans(n_clusters=k)\n",
        "  km=km.fit(scaled_data)\n",
        "  wcss.append(km.inertia_)\n",
        "plt.figure(figsize=(12,6))\n",
        "plt.plot(K,wcss)\n",
        "plt.title('Elbow Plot')\n",
        "plt.xlabel('No. of Clusters')\n",
        "plt.ylabel('Sum of Squared Distance Values')\n",
        "plt.show()"
      ],
      "execution_count": null,
      "outputs": [
        {
          "output_type": "display_data",
          "data": {
            "image/png": "[encoded data removed]",
            "text/plain": [
              "<Figure size 864x432 with 1 Axes>"
            ]
          },
          "metadata": {
            "needs_background": "light"
          }
        }
      ]
    },
    {
      "cell_type": "code",
      "metadata": {
        "colab": {
          "base_uri": "https://localhost:8080/",
          "height": 404
        },
        "id": "v2d5PZLclLZP",
        "outputId": "2e71c9b8-a67d-468a-a5c0-542b17a91f9f"
      },
      "source": [
        "##Verify optimal number of clusers on the basis of silhouette scores\n",
        "\n",
        "from sklearn.metrics import silhouette_score\n",
        "import matplotlib.pyplot as plt \n",
        "K=range(2,11)\n",
        "sil_score=[]\n",
        "for k in K:\n",
        "  km=KMeans(n_clusters=k)\n",
        "  km=km.fit(scaled_data)\n",
        "  labels=km.labels_\n",
        "  sil_score.append(silhouette_score(scaled_data,labels,metric='euclidean'))\n",
        "plt.figure(figsize=(12,6))\n",
        "plt.plot(K,sil_score)\n",
        "plt.title('Silhouette Plot')\n",
        "plt.xlabel('No of Clusters')\n",
        "plt.ylabel('Silhouette Scores')\n",
        "plt.show()"
      ],
      "execution_count": null,
      "outputs": [
        {
          "output_type": "display_data",
          "data": {
            "image/png": "[encoded data removed]",
            "text/plain": [
              "<Figure size 864x432 with 1 Axes>"
            ]
          },
          "metadata": {
            "needs_background": "light"
          }
        }
      ]
    },
    {
      "cell_type": "code",
      "metadata": {
        "id": "Bl9p1E8yQAjj",
        "colab": {
          "base_uri": "https://localhost:8080/",
          "height": 206
        },
        "outputId": "b64aef73-7006-4ef3-f9e9-7505cfdc86a4"
      },
      "source": [
        "##Assigning cluster label to each instance of the dataframe\n",
        "\n",
        "clusters=KMeans(n_clusters=3)\n",
        "clusters.fit(scaled_data)\n",
        "df['labels']=clusters.labels_\n",
        "df.head()"
      ],
      "execution_count": null,
      "outputs": [
        {
          "output_type": "execute_result",
          "data": {
            "text/html": [
              "<div>\n",
              "<style scoped>\n",
              "    .dataframe tbody tr th:only-of-type {\n",
              "        vertical-align: middle;\n",
              "    }\n",
              "\n",
              "    .dataframe tbody tr th {\n",
              "        vertical-align: top;\n",
              "    }\n",
              "\n",
              "    .dataframe thead th {\n",
              "        text-align: right;\n",
              "    }\n",
              "</style>\n",
              "<table border=\"1\" class=\"dataframe\">\n",
              "  <thead>\n",
              "    <tr style=\"text-align: right;\">\n",
              "      <th></th>\n",
              "      <th>status_type</th>\n",
              "      <th>num_reactions</th>\n",
              "      <th>num_comments</th>\n",
              "      <th>num_shares</th>\n",
              "      <th>num_likes</th>\n",
              "      <th>num_loves</th>\n",
              "      <th>num_wows</th>\n",
              "      <th>num_hahas</th>\n",
              "      <th>num_sads</th>\n",
              "      <th>num_angrys</th>\n",
              "      <th>labels</th>\n",
              "    </tr>\n",
              "  </thead>\n",
              "  <tbody>\n",
              "    <tr>\n",
              "      <th>0</th>\n",
              "      <td>3</td>\n",
              "      <td>529</td>\n",
              "      <td>512</td>\n",
              "      <td>262</td>\n",
              "      <td>432</td>\n",
              "      <td>92</td>\n",
              "      <td>3</td>\n",
              "      <td>1</td>\n",
              "      <td>1</td>\n",
              "      <td>0</td>\n",
              "      <td>1</td>\n",
              "    </tr>\n",
              "    <tr>\n",
              "      <th>1</th>\n",
              "      <td>1</td>\n",
              "      <td>150</td>\n",
              "      <td>0</td>\n",
              "      <td>0</td>\n",
              "      <td>150</td>\n",
              "      <td>0</td>\n",
              "      <td>0</td>\n",
              "      <td>0</td>\n",
              "      <td>0</td>\n",
              "      <td>0</td>\n",
              "      <td>0</td>\n",
              "    </tr>\n",
              "    <tr>\n",
              "      <th>2</th>\n",
              "      <td>3</td>\n",
              "      <td>227</td>\n",
              "      <td>236</td>\n",
              "      <td>57</td>\n",
              "      <td>204</td>\n",
              "      <td>21</td>\n",
              "      <td>1</td>\n",
              "      <td>1</td>\n",
              "      <td>0</td>\n",
              "      <td>0</td>\n",
              "      <td>1</td>\n",
              "    </tr>\n",
              "    <tr>\n",
              "      <th>3</th>\n",
              "      <td>1</td>\n",
              "      <td>111</td>\n",
              "      <td>0</td>\n",
              "      <td>0</td>\n",
              "      <td>111</td>\n",
              "      <td>0</td>\n",
              "      <td>0</td>\n",
              "      <td>0</td>\n",
              "      <td>0</td>\n",
              "      <td>0</td>\n",
              "      <td>0</td>\n",
              "    </tr>\n",
              "    <tr>\n",
              "      <th>4</th>\n",
              "      <td>1</td>\n",
              "      <td>213</td>\n",
              "      <td>0</td>\n",
              "      <td>0</td>\n",
              "      <td>204</td>\n",
              "      <td>9</td>\n",
              "      <td>0</td>\n",
              "      <td>0</td>\n",
              "      <td>0</td>\n",
              "      <td>0</td>\n",
              "      <td>0</td>\n",
              "    </tr>\n",
              "  </tbody>\n",
              "</table>\n",
              "</div>"
            ],
            "text/plain": [
              "   status_type  num_reactions  num_comments  ...  num_sads  num_angrys  labels\n",
              "0            3            529           512  ...         1           0       1\n",
              "1            1            150             0  ...         0           0       0\n",
              "2            3            227           236  ...         0           0       1\n",
              "3            1            111             0  ...         0           0       0\n",
              "4            1            213             0  ...         0           0       0\n",
              "\n",
              "[5 rows x 11 columns]"
            ]
          },
          "metadata": {},
          "execution_count": 62
        }
      ]
    },
    {
      "cell_type": "code",
      "metadata": {
        "colab": {
          "base_uri": "https://localhost:8080/"
        },
        "id": "gJNVio7Fasd1",
        "outputId": "a21bb838-2958-4337-de7d-1ccc094e2946"
      },
      "source": [
        "##Validating obtained clusters using external cluster validation approaches like rand_score and adjusted_rand_score\n",
        "\n",
        "from sklearn.metrics.cluster import rand_score\n",
        "k=round(rand_score(labels,df.status_type),1)\n",
        "print(k)"
      ],
      "execution_count": null,
      "outputs": [
        {
          "output_type": "stream",
          "name": "stdout",
          "text": [
            "0.8\n"
          ]
        }
      ]
    },
    {
      "cell_type": "code",
      "metadata": {
        "colab": {
          "base_uri": "https://localhost:8080/"
        },
        "id": "bDteWK7YbOiO",
        "outputId": "8847222f-6ad9-41f2-bb68-c7fd3251aa54"
      },
      "source": [
        "from sklearn.metrics.cluster import adjusted_rand_score\n",
        "round(adjusted_rand_score(labels,df.status_type),1)"
      ],
      "execution_count": null,
      "outputs": [
        {
          "output_type": "execute_result",
          "data": {
            "text/plain": [
              "0.7"
            ]
          },
          "metadata": {},
          "execution_count": 66
        }
      ]
    },
    {
      "cell_type": "markdown",
      "metadata": {
        "id": "9P9m4XFNF82H"
      },
      "source": [
        "###**Task 3: Perform PCA on Fruit Dataset**\n",
        "\n",
        "Fruit Dataset Link: https://raw.githubusercontent.com/dphi-official/Datasets/master/fruit_data.csv\n",
        "\n",
        "* Use PCA to find the first two principal components of the fruit dataset\n",
        "* Scale the value. Each feature should be centered (zero mean) and with unit variance\n",
        "* Analysis - perform PCA with 4 components and print their explained variance_ratio\n",
        "\n"
      ]
    },
    {
      "cell_type": "code",
      "metadata": {
        "colab": {
          "base_uri": "https://localhost:8080/",
          "height": 206
        },
        "id": "RQRoUpiIbZjo",
        "outputId": "ba58a0c7-c80c-4368-eaca-ebddebbe3542"
      },
      "source": [
        "##Use PCA to find the first two principal components of the fruit dataset\n",
        "\n",
        "fruit_df = pd.read_csv(\"https://raw.githubusercontent.com/dphi-official/Datasets/master/fruit_data.csv\")\n",
        "fruit_df.head()"
      ],
      "execution_count": null,
      "outputs": [
        {
          "output_type": "execute_result",
          "data": {
            "text/html": [
              "<div>\n",
              "<style scoped>\n",
              "    .dataframe tbody tr th:only-of-type {\n",
              "        vertical-align: middle;\n",
              "    }\n",
              "\n",
              "    .dataframe tbody tr th {\n",
              "        vertical-align: top;\n",
              "    }\n",
              "\n",
              "    .dataframe thead th {\n",
              "        text-align: right;\n",
              "    }\n",
              "</style>\n",
              "<table border=\"1\" class=\"dataframe\">\n",
              "  <thead>\n",
              "    <tr style=\"text-align: right;\">\n",
              "      <th></th>\n",
              "      <th>fruit_label</th>\n",
              "      <th>mass</th>\n",
              "      <th>width</th>\n",
              "      <th>height</th>\n",
              "      <th>color_score</th>\n",
              "    </tr>\n",
              "  </thead>\n",
              "  <tbody>\n",
              "    <tr>\n",
              "      <th>0</th>\n",
              "      <td>1</td>\n",
              "      <td>192</td>\n",
              "      <td>8.4</td>\n",
              "      <td>7.3</td>\n",
              "      <td>0.55</td>\n",
              "    </tr>\n",
              "    <tr>\n",
              "      <th>1</th>\n",
              "      <td>1</td>\n",
              "      <td>180</td>\n",
              "      <td>8.0</td>\n",
              "      <td>6.8</td>\n",
              "      <td>0.59</td>\n",
              "    </tr>\n",
              "    <tr>\n",
              "      <th>2</th>\n",
              "      <td>1</td>\n",
              "      <td>176</td>\n",
              "      <td>7.4</td>\n",
              "      <td>7.2</td>\n",
              "      <td>0.60</td>\n",
              "    </tr>\n",
              "    <tr>\n",
              "      <th>3</th>\n",
              "      <td>2</td>\n",
              "      <td>86</td>\n",
              "      <td>6.2</td>\n",
              "      <td>4.7</td>\n",
              "      <td>0.80</td>\n",
              "    </tr>\n",
              "    <tr>\n",
              "      <th>4</th>\n",
              "      <td>2</td>\n",
              "      <td>84</td>\n",
              "      <td>6.0</td>\n",
              "      <td>4.6</td>\n",
              "      <td>0.79</td>\n",
              "    </tr>\n",
              "  </tbody>\n",
              "</table>\n",
              "</div>"
            ],
            "text/plain": [
              "   fruit_label  mass  width  height  color_score\n",
              "0            1   192    8.4     7.3         0.55\n",
              "1            1   180    8.0     6.8         0.59\n",
              "2            1   176    7.4     7.2         0.60\n",
              "3            2    86    6.2     4.7         0.80\n",
              "4            2    84    6.0     4.6         0.79"
            ]
          },
          "metadata": {},
          "execution_count": 67
        }
      ]
    },
    {
      "cell_type": "code",
      "metadata": {
        "colab": {
          "base_uri": "https://localhost:8080/"
        },
        "id": "ZbWLW88ocsEA",
        "outputId": "19e2ab75-8def-4fb6-9ba0-22ec156b5ed0"
      },
      "source": [
        "##Scale the value. Each feature should be centered (zero mean) and with unit variance\n",
        "from sklearn.preprocessing import StandardScaler\n",
        "scale=StandardScaler()\n",
        "scale.fit(fruit_df.drop('fruit_label',axis=1))\n",
        "scaled_data=scale.transform(fruit_df.drop('fruit_label',axis=1))\n",
        "scaled_data"
      ],
      "execution_count": null,
      "outputs": [
        {
          "output_type": "execute_result",
          "data": {
            "text/plain": [
              "array([[ 0.52944179,  1.59869024, -0.29139659, -2.79359541],\n",
              "       [ 0.30946246,  1.10485399, -0.66192242, -2.26868417],\n",
              "       [ 0.23613601,  0.36409961, -0.36550175, -2.13745636],\n",
              "       [-1.41370901, -1.11740915, -2.21813091,  0.48709984],\n",
              "       [-1.45037224, -1.36432727, -2.29223608,  0.35587203],\n",
              "       [-1.52369868, -1.6112454 , -2.51455158,  0.09341641],\n",
              "       [-1.52369868, -1.48778634, -2.51455158,  0.61832765],\n",
              "       [-1.59702513, -1.6112454 , -2.73686708,  0.61832765],\n",
              "       [ 0.27279923, -0.00627758,  0.07912925,  2.06183356],\n",
              "       [ 0.16280957,  0.36409961, -0.51371209,  1.66815013],\n",
              "       [ 0.0528199 , -0.25319571, -0.29139659,  2.19306137],\n",
              "       [ 0.16280957, -0.00627758, -0.06908109,  2.06183356],\n",
              "       [-0.16715944, -0.12973664, -0.43960692,  1.53692232],\n",
              "       [ 0.01615667,  0.24064055,  0.00502408, -0.82517826],\n",
              "       [-0.20382266,  0.61101774, -0.29139659, -0.95640607],\n",
              "       [-0.13049622,  0.7344768 , -0.43960692, -0.95640607],\n",
              "       [-0.13049622,  0.61101774, -0.14318625, -1.21886169],\n",
              "       [ 0.08948312,  0.48755867, -0.06908109, -0.43149483],\n",
              "       [-0.02050655,  0.48755867, -0.43960692,  0.88078327],\n",
              "       [-0.02050655,  0.36409961, -0.36550175,  1.14323889],\n",
              "       [-0.05716977,  0.48755867, -0.14318625,  1.2744667 ],\n",
              "       [-0.13049622,  0.36409961, -0.21729142,  1.01201108],\n",
              "       [-0.423802  ,  0.24064055, -0.43960692,  1.40569451],\n",
              "       [ 0.12614634,  0.61101774,  0.15323441,  1.53692232],\n",
              "       [ 3.2791835 ,  2.33944462,  1.26481191, -0.16903921],\n",
              "       [ 3.53582606,  2.58636275,  1.11660158, -0.16903921],\n",
              "       [ 3.64581573,  3.080199  ,  1.11660158, -0.30026702],\n",
              "       [ 0.74942113,  0.48755867,  1.11660158,  0.09341641],\n",
              "       [-0.423802  , -0.50011383, -0.43960692, -0.56272264],\n",
              "       [-0.05716977, -0.12973664, -0.21729142,  0.61832765],\n",
              "       [-0.09383299, -0.00627758, -0.14318625,  0.35587203],\n",
              "       [ 0.8594108 ,  0.85793586,  0.22733958,  0.74955546],\n",
              "       [ 0.01615667,  0.11718148, -0.51371209,  0.48709984],\n",
              "       [ 0.49277857,  0.48755867,  0.30144474, -0.30026702],\n",
              "       [-0.38713878,  0.61101774,  0.07912925, -0.16903921],\n",
              "       [-0.24048588, -0.00627758,  0.15323441, -0.16903921],\n",
              "       [-0.05716977, -0.00627758, -0.06908109, -0.0378114 ],\n",
              "       [-0.16715944,  0.24064055, -0.29139659,  0.35587203],\n",
              "       [-0.09383299,  0.11718148,  0.07912925,  0.09341641],\n",
              "       [-0.35047555, -0.37665477, -0.21729142, -0.16903921],\n",
              "       [-0.16715944, -0.00627758, -0.14318625,  0.22464422],\n",
              "       [ 0.30946246,  0.61101774,  0.37554991,  0.35587203],\n",
              "       [-0.16715944,  0.11718148, -0.36550175,  0.74955546],\n",
              "       [ 0.56610502,  0.11718148,  1.93175841, -0.82517826],\n",
              "       [ 0.67609468,  0.24064055,  2.07996874, -0.56272264],\n",
              "       [ 0.41945212,  0.11718148,  1.11660158, -0.56272264],\n",
              "       [ 0.96940047,  0.24064055,  1.85765324, -0.69395045],\n",
              "       [ 0.60276824,  0.24064055,  1.48712741, -0.56272264],\n",
              "       [ 0.19947279,  0.24064055,  1.78354807, -0.56272264],\n",
              "       [-0.57045489, -1.6112454 ,  0.74607574, -0.43149483],\n",
              "       [-0.60711811, -1.36432727,  0.37554991, -0.69395045],\n",
              "       [-0.86376067, -1.36432727, -0.14318625, -0.56272264],\n",
              "       [-0.82709745, -1.48778634,  0.22733958, -0.56272264],\n",
              "       [-0.79043423, -1.36432727,  0.52376024, -0.30026702],\n",
              "       [-0.86376067, -1.24086821,  0.59786541, -0.69395045],\n",
              "       [-0.86376067, -0.99395009,  0.00502408, -0.56272264],\n",
              "       [-0.86376067, -1.48778634,  0.30144474, -0.43149483],\n",
              "       [-0.20382266, -0.74703196,  0.59786541, -0.56272264],\n",
              "       [-0.82709745, -1.24086821,  0.30144474, -0.82517826]])"
            ]
          },
          "metadata": {},
          "execution_count": 68
        }
      ]
    },
    {
      "cell_type": "code",
      "metadata": {
        "colab": {
          "base_uri": "https://localhost:8080/"
        },
        "id": "qu4zoFipdCYb",
        "outputId": "41bd5a11-c9cf-44b9-aa36-d8925e8dd5a6"
      },
      "source": [
        "##Analysis - perform PCA with 4 components and print their explained variance_ratio\n",
        "\n",
        "from sklearn.decomposition import PCA\n",
        "pca = PCA(n_components=4)\n",
        "pca.fit(scaled_data)\n",
        "fruit_pca = pca.transform(scaled_data)\n",
        "fruit_pca"
      ],
      "execution_count": null,
      "outputs": [
        {
          "output_type": "execute_result",
          "data": {
            "text/plain": [
              "array([[ 1.57216938e+00, -1.98004398e+00,  2.04868755e+00,\n",
              "        -3.68503726e-01],\n",
              "       [ 8.78416884e-01, -1.57937340e+00,  1.89945480e+00,\n",
              "        -1.66052501e-01],\n",
              "       [ 5.29773219e-01, -1.73289051e+00,  1.25822742e+00,\n",
              "         1.54708004e-01],\n",
              "       [-2.71261023e+00,  4.14673821e-01,  9.23163856e-01,\n",
              "         1.48685009e-01],\n",
              "       [-2.89341158e+00,  2.42002917e-01,  9.09228669e-01,\n",
              "         2.98105588e-01],\n",
              "       [-3.14907175e+00, -2.27446010e-02,  1.05715050e+00,\n",
              "         4.63387835e-01],\n",
              "       [-3.16435024e+00,  4.89798655e-01,  9.26213713e-01,\n",
              "         3.59968846e-01],\n",
              "       [-3.39197004e+00,  4.97051575e-01,  1.03783465e+00,\n",
              "         4.35602685e-01],\n",
              "       [-1.33784204e-01,  1.92251073e+00, -7.81979725e-01,\n",
              "         8.02488424e-02],\n",
              "       [-2.17834906e-01,  1.77601184e+00, -3.15928733e-03,\n",
              "        -6.34061560e-02],\n",
              "       [-6.19839921e-01,  2.02528232e+00, -6.72588634e-01,\n",
              "         1.51600289e-01],\n",
              "       [-2.76235120e-01,  1.93637892e+00, -6.74851300e-01,\n",
              "         3.43910162e-02],\n",
              "       [-6.51533414e-01,  1.44776118e+00, -2.81651435e-01,\n",
              "        -1.79602117e-02],\n",
              "       [ 2.87901535e-01, -6.93009096e-01,  4.08870052e-01,\n",
              "        -9.37533788e-02],\n",
              "       [ 2.38736861e-01, -6.91171266e-01,  8.45449859e-01,\n",
              "        -4.06217217e-01],\n",
              "       [ 2.82476820e-01, -6.10028944e-01,  1.02943989e+00,\n",
              "        -3.90867363e-01],\n",
              "       [ 4.01540315e-01, -9.52745575e-01,  8.29252006e-01,\n",
              "        -3.74005910e-01],\n",
              "       [ 3.74798407e-01, -2.37273975e-01,  4.50119055e-01,\n",
              "        -1.93133962e-01],\n",
              "       [-9.45747360e-02,  1.03234545e+00,  2.61434597e-01,\n",
              "        -2.53254481e-01],\n",
              "       [-1.72476874e-01,  1.22375160e+00,  4.93415065e-02,\n",
              "        -2.09343975e-01],\n",
              "       [-3.54154871e-02,  1.31528018e+00, -1.20713340e-01,\n",
              "        -3.74114409e-01],\n",
              "       [-1.46164486e-01,  1.04663218e+00, -3.27008975e-02,\n",
              "        -3.21103465e-01],\n",
              "       [-5.76560542e-01,  1.37171952e+00, -8.52657256e-02,\n",
              "        -4.30628106e-01],\n",
              "       [ 2.54560396e-01,  1.55238094e+00, -3.74976401e-01,\n",
              "        -3.99464265e-01],\n",
              "       [ 4.06190602e+00,  7.80117598e-01,  4.88671635e-01,\n",
              "         7.12674577e-01],\n",
              "       [ 4.29183685e+00,  9.28534053e-01,  7.49523276e-01,\n",
              "         7.89232111e-01],\n",
              "       [ 4.66783223e+00,  9.55583034e-01,  1.04129720e+00,\n",
              "         5.74857403e-01],\n",
              "       [ 1.28997005e+00,  8.98863315e-02, -6.18412058e-01,\n",
              "        -1.83151230e-02],\n",
              "       [-6.79824510e-01, -6.21097341e-01,  2.74493453e-01,\n",
              "         1.27918211e-01],\n",
              "       [-3.20690503e-01,  5.74314081e-01, -1.16676429e-01,\n",
              "         5.78979119e-02],\n",
              "       [-1.92202756e-01,  3.40386532e-01, -2.65330474e-02,\n",
              "        -4.98231717e-02],\n",
              "       [ 1.02333797e+00,  1.01925473e+00,  4.05855085e-02,\n",
              "         2.02371131e-02],\n",
              "       [-2.57483806e-01,  6.02000711e-01,  2.91210942e-01,\n",
              "         4.06487085e-02],\n",
              "       [ 7.89648409e-01, -1.26601481e-01,  1.47948668e-01,\n",
              "         1.05851668e-02],\n",
              "       [ 1.77828474e-01, -9.37545670e-02,  2.47404606e-01,\n",
              "        -6.75598161e-01],\n",
              "       [-5.03264608e-02, -2.40068507e-01, -8.85713206e-02,\n",
              "        -2.04737367e-01],\n",
              "       [-6.74821640e-02, -3.09434404e-02,  6.00039191e-02,\n",
              "        -1.99469366e-02],\n",
              "       [-1.68968861e-01,  4.24333265e-01,  2.00970705e-01,\n",
              "        -2.20019548e-01],\n",
              "       [ 3.28032551e-02,  7.82641896e-02, -5.09287330e-02,\n",
              "        -1.66520631e-01],\n",
              "       [-5.17183007e-01, -2.67536034e-01,  2.09186769e-02,\n",
              "         3.16284992e-02],\n",
              "       [-2.16475977e-01,  2.05788518e-01,  1.33742573e-02,\n",
              "        -9.77720831e-02],\n",
              "       [ 6.74654824e-01,  4.52717623e-01, -1.07954859e-01,\n",
              "        -2.55001358e-01],\n",
              "       [-3.42082368e-01,  7.71368919e-01,  5.98040562e-02,\n",
              "        -1.46600856e-01],\n",
              "       [ 1.51721236e+00, -1.07667244e+00, -1.13106218e+00,\n",
              "        -7.97342409e-02],\n",
              "       [ 1.68770366e+00, -8.18540188e-01, -1.27449149e+00,\n",
              "        -1.23524822e-01],\n",
              "       [ 9.77492543e-01, -6.70313297e-01, -5.90175223e-01,\n",
              "        -3.00910212e-03],\n",
              "       [ 1.78276580e+00, -8.28468032e-01, -1.02016440e+00,\n",
              "         1.57287494e-01],\n",
              "       [ 1.34756326e+00, -6.91434406e-01, -8.08924585e-01,\n",
              "        -3.27851152e-02],\n",
              "       [ 1.24203754e+00, -8.40946928e-01, -1.08617189e+00,\n",
              "        -4.07160182e-01],\n",
              "       [-8.47166936e-01, -1.09546250e+00, -1.25861591e+00,\n",
              "         4.03117127e-01],\n",
              "       [-8.67975755e-01, -1.19185814e+00, -7.55404360e-01,\n",
              "         3.28698650e-01],\n",
              "       [-1.30783125e+00, -9.97976508e-01, -4.14804195e-01,\n",
              "         2.57270822e-01],\n",
              "       [-1.17234433e+00, -1.11066607e+00, -7.65044847e-01,\n",
              "         2.69582055e-01],\n",
              "       [-9.74233749e-01, -9.02218521e-01, -1.03412919e+00,\n",
              "         1.34563794e-01],\n",
              "       [-8.47052896e-01, -1.26358078e+00, -9.00373185e-01,\n",
              "         6.31090062e-03],\n",
              "       [-1.02020159e+00, -9.38961744e-01, -3.58043573e-01,\n",
              "        -6.75613224e-03],\n",
              "       [-1.18019412e+00, -1.01523701e+00, -8.75190308e-01,\n",
              "         2.17082925e-01],\n",
              "       [-1.69881480e-01, -8.88539444e-01, -6.47655343e-01,\n",
              "         1.89422128e-01],\n",
              "       [-9.49531009e-01, -1.30597269e+00, -6.12861142e-01,\n",
              "         1.13400247e-01]])"
            ]
          },
          "metadata": {},
          "execution_count": 69
        }
      ]
    },
    {
      "cell_type": "code",
      "metadata": {
        "colab": {
          "base_uri": "https://localhost:8080/"
        },
        "id": "eDY1cqo6hmuT",
        "outputId": "7d002aad-f1d4-4078-bb6b-8b4fdddd333f"
      },
      "source": [
        "print(pca.explained_variance_ratio_)"
      ],
      "execution_count": null,
      "outputs": [
        {
          "output_type": "stream",
          "name": "stdout",
          "text": [
            "[0.57845054 0.25650171 0.14402362 0.02102413]\n"
          ]
        }
      ]
    }
  ]
}