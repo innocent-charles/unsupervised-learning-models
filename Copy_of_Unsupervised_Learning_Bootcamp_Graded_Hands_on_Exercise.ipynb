{
  "nbformat": 4,
  "nbformat_minor": 0,
  "metadata": {
    "accelerator": "GPU",
    "colab": {
      "name": "Copy of Unsupervised Learning Bootcamp Graded Hands-on Exercise.ipynb",
      "provenance": []
    },
    "kernelspec": {
      "display_name": "Python 3",
      "language": "python",
      "name": "python3"
    },
    "language_info": {
      "codemirror_mode": {
        "name": "ipython",
        "version": 3
      },
      "file_extension": ".py",
      "mimetype": "text/x-python",
      "name": "python",
      "nbconvert_exporter": "python",
      "pygments_lexer": "ipython3",
      "version": "3.7.3"
    }
  },
  "cells": [
    {
      "cell_type": "markdown",
      "metadata": {
        "id": "4vjqkJbJBmGA"
      },
      "source": [
        "### **Overview**\n",
        "\n",
        "Throughout this assignment, you will be performing specific well-defined tasks that’ll strengthen your concepts in Unsupervised Learning. We will be using the facebook live sellers dataset for Task 1 & 2 of the assignment and here is a brief context about the same - The data is about live selling feature on the Facebook platform. Each record consists of information about the time live information of sale is posted to Facebook and engagements in the data. The engagements are regular Facebook interactions such as share and emotion rection.\n",
        "\n",
        "As part of the assignment, you will have to accomplish the below tasks.\n",
        "\n",
        "\n",
        "**Author:** Chintoo Kumar"
      ]
    },
    {
      "cell_type": "markdown",
      "metadata": {
        "id": "Y5U0zsQcBW2j"
      },
      "source": [
        "###**Dataset**\n",
        "\n",
        "Dataset Link: https://archive.ics.uci.edu/ml/datasets/Facebook+Live+Sellers+in+Thailand\n",
        "\n",
        "**About the dataset:**\n",
        "\n",
        "The Facebook Live Sellers in Thailand is a dataset curated in UCI Machine Learning Datasets. It data contains 7050 observations and twelve attributes. In this assignment, the preprocessed dataset contains 7050 instances and 10 attributes. The details of the attributes are as follows:\n",
        "\n",
        "* status_type: The type of shared status\n",
        "* num_reactions: Number of glimpses over a shared status by viewers\n",
        "* num_comments: Number of comments on that particular shared status\n",
        "* num_shares: Toal number of shares by peers\n",
        "* num_likes: Number of likes on the post\n",
        "* num_loves: Number of love emojis of that shared post\n",
        "* num_wows: Number of wow emojis on that post\n",
        "* num_hahas: Number of haha emojis on that post\n",
        "* num_sads: Number of sad emojis on that post\n",
        "* num_angrys: Number of angry emojis on that post"
      ]
    },
    {
      "cell_type": "markdown",
      "metadata": {
        "id": "Nt260k7VBW2k"
      },
      "source": [
        "### **Task 1: Data loading and Data Analysis**\n",
        "\n",
        "* Load the data file into a dataframe object : df\n",
        "* Display the first 5 observation of the dataset\n",
        "* Display a concise summary of the provided data and list out 2 observations/inferences that you observe from the result. You can use the info() method for this.\n",
        "* Perform EDA viz. Is there any missing values in each column of the provided dataset\n",
        "* Display all the unique status_type of the dataframe\n",
        "* Convert categorical variable, i.e., status_type into numerical representation using a label encoder"
      ]
    },
    {
      "cell_type": "markdown",
      "metadata": {
        "id": "FmBYLlV_cerZ"
      },
      "source": [
        "<h1>SOLUTION TO THE TASK 1 :UNSUPERVISED LEARNING DPHI</h1>:"
      ]
    },
    {
      "cell_type": "code",
      "metadata": {
        "colab": {
          "base_uri": "https://localhost:8080/"
        },
        "id": "vUrYqAM_Zw35",
        "outputId": "623b00e2-39ca-4753-bc0c-f76c6f2fb96a"
      },
      "source": [
        "#SOLUTIO TO THE TASK 1: UNSUPERVISED LEARNING BOOTCAMP\n",
        "#mounting the drive to get the data\n",
        "from google.colab import drive\n",
        "drive.mount(\"/content/drive\")"
      ],
      "execution_count": 1,
      "outputs": [
        {
          "output_type": "stream",
          "name": "stdout",
          "text": [
            "Mounted at /content/drive\n"
          ]
        }
      ]
    },
    {
      "cell_type": "code",
      "metadata": {
        "id": "cnvkCplwaEUB"
      },
      "source": [
        "#loading the data \n",
        "import pandas as pd \n",
        "data_facebook_live_server=pd.read_csv(\"/content/drive/MyDrive/Unsupervised Learning /Live_20210128.csv\")"
      ],
      "execution_count": 2,
      "outputs": []
    },
    {
      "cell_type": "code",
      "metadata": {
        "id": "bbSSaxu4ZnLV"
      },
      "source": [
        "colm_del=['Column1','Column2','Column3','Column4','status_published','status_id']\n",
        "for x in colm_del:\n",
        "  del data_facebook_live_server[x]"
      ],
      "execution_count": 3,
      "outputs": []
    },
    {
      "cell_type": "code",
      "metadata": {
        "colab": {
          "base_uri": "https://localhost:8080/"
        },
        "id": "sbVWfFI5b7yX",
        "outputId": "b052263d-23bc-4c13-b35b-e9a40472221d"
      },
      "source": [
        "data_facebook_live_server.shape "
      ],
      "execution_count": 4,
      "outputs": [
        {
          "output_type": "execute_result",
          "data": {
            "text/plain": [
              "(7050, 10)"
            ]
          },
          "metadata": {},
          "execution_count": 4
        }
      ]
    },
    {
      "cell_type": "code",
      "metadata": {
        "colab": {
          "base_uri": "https://localhost:8080/",
          "height": 358
        },
        "id": "9D5Wpjm0vMTu",
        "outputId": "0cc9b0d3-4439-4115-905d-b0e322f1f2a5"
      },
      "source": [
        "#displaying concise summary for the data_facebook_live_server dataset\n",
        "data_facebook_live_server.info()\n",
        "#Two inference observed from the result\n",
        "\"\"\"\n",
        "1.The dataset is having  two categorical columns , ten integer datatype columns, and the four float datatype columns.\n",
        "2.Also it shows that some columns are having null values while other are having non-null values \n",
        "\n",
        "\"\"\""
      ],
      "execution_count": 5,
      "outputs": [
        {
          "output_type": "stream",
          "name": "stdout",
          "text": [
            "<class 'pandas.core.frame.DataFrame'>\n",
            "RangeIndex: 7050 entries, 0 to 7049\n",
            "Data columns (total 10 columns):\n",
            " #   Column         Non-Null Count  Dtype \n",
            "---  ------         --------------  ----- \n",
            " 0   status_type    7050 non-null   object\n",
            " 1   num_reactions  7050 non-null   int64 \n",
            " 2   num_comments   7050 non-null   int64 \n",
            " 3   num_shares     7050 non-null   int64 \n",
            " 4   num_likes      7050 non-null   int64 \n",
            " 5   num_loves      7050 non-null   int64 \n",
            " 6   num_wows       7050 non-null   int64 \n",
            " 7   num_hahas      7050 non-null   int64 \n",
            " 8   num_sads       7050 non-null   int64 \n",
            " 9   num_angrys     7050 non-null   int64 \n",
            "dtypes: int64(9), object(1)\n",
            "memory usage: 550.9+ KB\n"
          ]
        },
        {
          "output_type": "execute_result",
          "data": {
            "application/vnd.google.colaboratory.intrinsic+json": {
              "type": "string"
            },
            "text/plain": [
              "'\\n1.The dataset is having  two categorical columns , ten integer datatype columns, and the four float datatype columns.\\n2.Also it shows that some columns are having null values while other are having non-null values \\n\\n'"
            ]
          },
          "metadata": {},
          "execution_count": 5
        }
      ]
    },
    {
      "cell_type": "code",
      "metadata": {
        "colab": {
          "base_uri": "https://localhost:8080/",
          "height": 468
        },
        "id": "KaPqlgcFOJjn",
        "outputId": "82d57697-ed5e-47ad-b6f5-e5c0856fcb4d"
      },
      "source": [
        "#EDA \n",
        "print(data_facebook_live_server.isnull().sum())\n",
        "import matplotlib.pyplot as plt\n",
        "group=data_facebook_live_server.isnull().sum().sort_values().plot(kind='barh')\n",
        "plt.title(\"MISSING VALUES IN DATA SET\")\n",
        "for p in group.patches:\n",
        "    z=((p.get_width()/data_facebook_live_server.shape[0])*100)\n",
        "    per=\"{:,.0f}%\".format(z)\n",
        "    width=p.get_width()\n",
        "    height=p.get_height()\n",
        "    x=p.get_x() + width + 0.02 \n",
        "    y=p.get_y() + height/2\n",
        "    plt.annotate(per,(x,y)) \n",
        "\n",
        "\n",
        "#ANSWER: No .,,There is no Missing values "
      ],
      "execution_count": 6,
      "outputs": [
        {
          "output_type": "stream",
          "name": "stdout",
          "text": [
            "status_type      0\n",
            "num_reactions    0\n",
            "num_comments     0\n",
            "num_shares       0\n",
            "num_likes        0\n",
            "num_loves        0\n",
            "num_wows         0\n",
            "num_hahas        0\n",
            "num_sads         0\n",
            "num_angrys       0\n",
            "dtype: int64\n"
          ]
        },
        {
          "output_type": "display_data",
          "data": {
            "image/png": "[encoded data removed]",
            "text/plain": [
              "<Figure size 432x288 with 1 Axes>"
            ]
          },
          "metadata": {
            "needs_background": "light"
          }
        }
      ]
    },
    {
      "cell_type": "code",
      "metadata": {
        "colab": {
          "base_uri": "https://localhost:8080/"
        },
        "id": "kQqiqEZfPl1A",
        "outputId": "dd7d71b1-d2e1-43a4-be72-83f3659cb3ff"
      },
      "source": [
        "#Display all the unique status_type of the dataframe\n",
        "data_facebook_live_server['status_type'].unique()"
      ],
      "execution_count": 7,
      "outputs": [
        {
          "output_type": "execute_result",
          "data": {
            "text/plain": [
              "array(['video', 'photo', 'link', 'status'], dtype=object)"
            ]
          },
          "metadata": {},
          "execution_count": 7
        }
      ]
    },
    {
      "cell_type": "code",
      "metadata": {
        "colab": {
          "base_uri": "https://localhost:8080/",
          "height": 513
        },
        "id": "HP5VAMXSP2Iq",
        "outputId": "d92a3545-f915-43cb-c2b0-d7fdba419cbd"
      },
      "source": [
        "#Convert categorical variable, i.e., status_type into numerical representation using a label encoder\n",
        "from sklearn.preprocessing import LabelEncoder\n",
        "encoder=LabelEncoder()\n",
        "data_facebook_live_server['status_type']=encoder.fit_transform(data_facebook_live_server['status_type'])\n",
        "data_facebook_live_server.info()\n",
        "data_facebook_live_server.head()#checking if it is converted ..!!"
      ],
      "execution_count": 8,
      "outputs": [
        {
          "output_type": "stream",
          "name": "stdout",
          "text": [
            "<class 'pandas.core.frame.DataFrame'>\n",
            "RangeIndex: 7050 entries, 0 to 7049\n",
            "Data columns (total 10 columns):\n",
            " #   Column         Non-Null Count  Dtype\n",
            "---  ------         --------------  -----\n",
            " 0   status_type    7050 non-null   int64\n",
            " 1   num_reactions  7050 non-null   int64\n",
            " 2   num_comments   7050 non-null   int64\n",
            " 3   num_shares     7050 non-null   int64\n",
            " 4   num_likes      7050 non-null   int64\n",
            " 5   num_loves      7050 non-null   int64\n",
            " 6   num_wows       7050 non-null   int64\n",
            " 7   num_hahas      7050 non-null   int64\n",
            " 8   num_sads       7050 non-null   int64\n",
            " 9   num_angrys     7050 non-null   int64\n",
            "dtypes: int64(10)\n",
            "memory usage: 550.9 KB\n"
          ]
        },
        {
          "output_type": "execute_result",
          "data": {
            "text/html": [
              "<div>\n",
              "<style scoped>\n",
              "    .dataframe tbody tr th:only-of-type {\n",
              "        vertical-align: middle;\n",
              "    }\n",
              "\n",
              "    .dataframe tbody tr th {\n",
              "        vertical-align: top;\n",
              "    }\n",
              "\n",
              "    .dataframe thead th {\n",
              "        text-align: right;\n",
              "    }\n",
              "</style>\n",
              "<table border=\"1\" class=\"dataframe\">\n",
              "  <thead>\n",
              "    <tr style=\"text-align: right;\">\n",
              "      <th></th>\n",
              "      <th>status_type</th>\n",
              "      <th>num_reactions</th>\n",
              "      <th>num_comments</th>\n",
              "      <th>num_shares</th>\n",
              "      <th>num_likes</th>\n",
              "      <th>num_loves</th>\n",
              "      <th>num_wows</th>\n",
              "      <th>num_hahas</th>\n",
              "      <th>num_sads</th>\n",
              "      <th>num_angrys</th>\n",
              "    </tr>\n",
              "  </thead>\n",
              "  <tbody>\n",
              "    <tr>\n",
              "      <th>0</th>\n",
              "      <td>3</td>\n",
              "      <td>529</td>\n",
              "      <td>512</td>\n",
              "      <td>262</td>\n",
              "      <td>432</td>\n",
              "      <td>92</td>\n",
              "      <td>3</td>\n",
              "      <td>1</td>\n",
              "      <td>1</td>\n",
              "      <td>0</td>\n",
              "    </tr>\n",
              "    <tr>\n",
              "      <th>1</th>\n",
              "      <td>1</td>\n",
              "      <td>150</td>\n",
              "      <td>0</td>\n",
              "      <td>0</td>\n",
              "      <td>150</td>\n",
              "      <td>0</td>\n",
              "      <td>0</td>\n",
              "      <td>0</td>\n",
              "      <td>0</td>\n",
              "      <td>0</td>\n",
              "    </tr>\n",
              "    <tr>\n",
              "      <th>2</th>\n",
              "      <td>3</td>\n",
              "      <td>227</td>\n",
              "      <td>236</td>\n",
              "      <td>57</td>\n",
              "      <td>204</td>\n",
              "      <td>21</td>\n",
              "      <td>1</td>\n",
              "      <td>1</td>\n",
              "      <td>0</td>\n",
              "      <td>0</td>\n",
              "    </tr>\n",
              "    <tr>\n",
              "      <th>3</th>\n",
              "      <td>1</td>\n",
              "      <td>111</td>\n",
              "      <td>0</td>\n",
              "      <td>0</td>\n",
              "      <td>111</td>\n",
              "      <td>0</td>\n",
              "      <td>0</td>\n",
              "      <td>0</td>\n",
              "      <td>0</td>\n",
              "      <td>0</td>\n",
              "    </tr>\n",
              "    <tr>\n",
              "      <th>4</th>\n",
              "      <td>1</td>\n",
              "      <td>213</td>\n",
              "      <td>0</td>\n",
              "      <td>0</td>\n",
              "      <td>204</td>\n",
              "      <td>9</td>\n",
              "      <td>0</td>\n",
              "      <td>0</td>\n",
              "      <td>0</td>\n",
              "      <td>0</td>\n",
              "    </tr>\n",
              "  </tbody>\n",
              "</table>\n",
              "</div>"
            ],
            "text/plain": [
              "   status_type  num_reactions  num_comments  ...  num_hahas  num_sads  num_angrys\n",
              "0            3            529           512  ...          1         1           0\n",
              "1            1            150             0  ...          0         0           0\n",
              "2            3            227           236  ...          1         0           0\n",
              "3            1            111             0  ...          0         0           0\n",
              "4            1            213             0  ...          0         0           0\n",
              "\n",
              "[5 rows x 10 columns]"
            ]
          },
          "metadata": {},
          "execution_count": 8
        }
      ]
    },
    {
      "cell_type": "markdown",
      "metadata": {
        "id": "iG3wQpWzDjp1"
      },
      "source": [
        "###**Task 2: Feature Scaling**\n",
        "\n",
        "\n",
        "*   Perform normalization to scale numerical data prior to modeling. You may use Min-max scaling technique\n",
        "*   Use Elbow method to determine the number of cluster to be formed\n",
        "*   Verify optimal number of clusers on the basis of silhouette scores\n",
        "*   Assigning cluster label to each instance of the dataframe\n",
        "*   Validating obtained clusters using external cluster validation approaches like rand_score and adjusted_rand_score\n"
      ]
    },
    {
      "cell_type": "markdown",
      "metadata": {
        "id": "QnE10I3oSDYQ"
      },
      "source": [
        "<h1>SOLUTION TO THE TASK 2 :UNSUPERVISED LEARNING DPHI </h1>:"
      ]
    },
    {
      "cell_type": "code",
      "metadata": {
        "colab": {
          "base_uri": "https://localhost:8080/",
          "height": 224
        },
        "id": "2M5cIslISjBD",
        "outputId": "d71e5e78-cf50-4828-cdf5-09a3007a3a69"
      },
      "source": [
        "#Perform normalization to scale numerical data prior to modeling by using min-Max Scaler \n",
        "from sklearn.preprocessing import MinMaxScaler\n",
        "scaler=MinMaxScaler()\n",
        "data_facebook_live_server_scaled=scaler.fit_transform(data_facebook_live_server)\n",
        "data_facebook_live_server=pd.DataFrame(data_facebook_live_server_scaled, columns=data_facebook_live_server.columns)\n",
        "data_facebook_live_server.head()"
      ],
      "execution_count": 9,
      "outputs": [
        {
          "output_type": "execute_result",
          "data": {
            "text/html": [
              "<div>\n",
              "<style scoped>\n",
              "    .dataframe tbody tr th:only-of-type {\n",
              "        vertical-align: middle;\n",
              "    }\n",
              "\n",
              "    .dataframe tbody tr th {\n",
              "        vertical-align: top;\n",
              "    }\n",
              "\n",
              "    .dataframe thead th {\n",
              "        text-align: right;\n",
              "    }\n",
              "</style>\n",
              "<table border=\"1\" class=\"dataframe\">\n",
              "  <thead>\n",
              "    <tr style=\"text-align: right;\">\n",
              "      <th></th>\n",
              "      <th>status_type</th>\n",
              "      <th>num_reactions</th>\n",
              "      <th>num_comments</th>\n",
              "      <th>num_shares</th>\n",
              "      <th>num_likes</th>\n",
              "      <th>num_loves</th>\n",
              "      <th>num_wows</th>\n",
              "      <th>num_hahas</th>\n",
              "      <th>num_sads</th>\n",
              "      <th>num_angrys</th>\n",
              "    </tr>\n",
              "  </thead>\n",
              "  <tbody>\n",
              "    <tr>\n",
              "      <th>0</th>\n",
              "      <td>1.000000</td>\n",
              "      <td>0.112314</td>\n",
              "      <td>0.024393</td>\n",
              "      <td>0.076519</td>\n",
              "      <td>0.091720</td>\n",
              "      <td>0.140030</td>\n",
              "      <td>0.010791</td>\n",
              "      <td>0.006369</td>\n",
              "      <td>0.019608</td>\n",
              "      <td>0.0</td>\n",
              "    </tr>\n",
              "    <tr>\n",
              "      <th>1</th>\n",
              "      <td>0.333333</td>\n",
              "      <td>0.031847</td>\n",
              "      <td>0.000000</td>\n",
              "      <td>0.000000</td>\n",
              "      <td>0.031847</td>\n",
              "      <td>0.000000</td>\n",
              "      <td>0.000000</td>\n",
              "      <td>0.000000</td>\n",
              "      <td>0.000000</td>\n",
              "      <td>0.0</td>\n",
              "    </tr>\n",
              "    <tr>\n",
              "      <th>2</th>\n",
              "      <td>1.000000</td>\n",
              "      <td>0.048195</td>\n",
              "      <td>0.011243</td>\n",
              "      <td>0.016647</td>\n",
              "      <td>0.043312</td>\n",
              "      <td>0.031963</td>\n",
              "      <td>0.003597</td>\n",
              "      <td>0.006369</td>\n",
              "      <td>0.000000</td>\n",
              "      <td>0.0</td>\n",
              "    </tr>\n",
              "    <tr>\n",
              "      <th>3</th>\n",
              "      <td>0.333333</td>\n",
              "      <td>0.023567</td>\n",
              "      <td>0.000000</td>\n",
              "      <td>0.000000</td>\n",
              "      <td>0.023567</td>\n",
              "      <td>0.000000</td>\n",
              "      <td>0.000000</td>\n",
              "      <td>0.000000</td>\n",
              "      <td>0.000000</td>\n",
              "      <td>0.0</td>\n",
              "    </tr>\n",
              "    <tr>\n",
              "      <th>4</th>\n",
              "      <td>0.333333</td>\n",
              "      <td>0.045223</td>\n",
              "      <td>0.000000</td>\n",
              "      <td>0.000000</td>\n",
              "      <td>0.043312</td>\n",
              "      <td>0.013699</td>\n",
              "      <td>0.000000</td>\n",
              "      <td>0.000000</td>\n",
              "      <td>0.000000</td>\n",
              "      <td>0.0</td>\n",
              "    </tr>\n",
              "  </tbody>\n",
              "</table>\n",
              "</div>"
            ],
            "text/plain": [
              "   status_type  num_reactions  num_comments  ...  num_hahas  num_sads  num_angrys\n",
              "0     1.000000       0.112314      0.024393  ...   0.006369  0.019608         0.0\n",
              "1     0.333333       0.031847      0.000000  ...   0.000000  0.000000         0.0\n",
              "2     1.000000       0.048195      0.011243  ...   0.006369  0.000000         0.0\n",
              "3     0.333333       0.023567      0.000000  ...   0.000000  0.000000         0.0\n",
              "4     0.333333       0.045223      0.000000  ...   0.000000  0.000000         0.0\n",
              "\n",
              "[5 rows x 10 columns]"
            ]
          },
          "metadata": {},
          "execution_count": 9
        }
      ]
    },
    {
      "cell_type": "code",
      "metadata": {
        "id": "Z7qXkln6APHf"
      },
      "source": [
        "#Use Elbow method to determine the number of cluster to be formed\n",
        "from sklearn.cluster import KMeans\n",
        "from sklearn import metrics\n",
        "from scipy.spatial.distance import cdist\n",
        "import numpy as np\n",
        "import matplotlib.pyplot as plt\n",
        "distortions = []\n",
        "inertias = []\n",
        "mapping1 = {}\n",
        "mapping2 = {}\n",
        "K = range(1, 10)\n",
        "for k in K:\n",
        "    # Building and fitting the model\n",
        "    kmeanModel = KMeans(n_clusters=k).fit(data_facebook_live_server)\n",
        "    kmeanModel.fit(data_facebook_live_server)\n",
        "    distortions.append(sum(np.min(cdist(data_facebook_live_server, kmeanModel.cluster_centers_,'euclidean'), axis=1)) / data_facebook_live_server.shape[0])\n",
        "    inertias.append(kmeanModel.inertia_)\n",
        "    mapping1[k] = sum(np.min(cdist(data_facebook_live_server, kmeanModel.cluster_centers_,'euclidean'), axis=1)) / data_facebook_live_server.shape[0]\n",
        "    mapping2[k] = kmeanModel.inertia_"
      ],
      "execution_count": 10,
      "outputs": []
    },
    {
      "cell_type": "code",
      "metadata": {
        "colab": {
          "base_uri": "https://localhost:8080/",
          "height": 295
        },
        "id": "H9dARLbEc8Jq",
        "outputId": "ddb7134c-e5c3-437d-a222-3ac348d1e078"
      },
      "source": [
        "plt.plot(K, distortions, 'bx-')\n",
        "plt.xlabel('Values of K')\n",
        "plt.ylabel('Distortion')\n",
        "plt.title('The Elbow Method using Distortion')\n",
        "plt.show()\n",
        "\n",
        "#ANSWER : Hence the value of the k=3 , means optimal number of the clusters are  2 ."
      ],
      "execution_count": 11,
      "outputs": [
        {
          "output_type": "display_data",
          "data": {
            "image/png": "[encoded data removed]",
            "text/plain": [
              "<Figure size 432x288 with 1 Axes>"
            ]
          },
          "metadata": {
            "needs_background": "light"
          }
        }
      ]
    },
    {
      "cell_type": "code",
      "metadata": {
        "colab": {
          "base_uri": "https://localhost:8080/",
          "height": 295
        },
        "id": "l4o1rktMddfu",
        "outputId": "f3ba5831-6f46-4aef-e093-9cf25c49ff48"
      },
      "source": [
        "plt.plot(K, inertias, 'bx-')\n",
        "plt.xlabel('Values of K')\n",
        "plt.ylabel('Inertia')\n",
        "plt.title('The Elbow Method using Inertia')\n",
        "plt.show()\n",
        "\n",
        "#ANSWER : Hence the value of the k=3 , means optimal number of the clusters are  2 ."
      ],
      "execution_count": 12,
      "outputs": [
        {
          "output_type": "display_data",
          "data": {
            "image/png": "[encoded data removed]",
            "text/plain": [
              "<Figure size 432x288 with 1 Axes>"
            ]
          },
          "metadata": {
            "needs_background": "light"
          }
        }
      ]
    },
    {
      "cell_type": "code",
      "metadata": {
        "colab": {
          "base_uri": "https://localhost:8080/",
          "height": 393
        },
        "id": "bv7TN7TXOx2P",
        "outputId": "af92f109-58d4-48d4-bbd5-97b6a2b8878d"
      },
      "source": [
        "#By using KEelbow visualizer\n",
        "from sklearn.cluster import KMeans\n",
        "from yellowbrick.cluster import KElbowVisualizer\n",
        "km = KMeans(random_state=42)\n",
        "visualizer = KElbowVisualizer(km, k=(1,10))\n",
        "visualizer.fit(data_facebook_live_server) # Fit the data to the visualizer\n",
        "visualizer.show()  \n",
        "\n",
        "#ANSWER : Hence the value of the k=3 , means optimal number of the clusters are  2 ."
      ],
      "execution_count": 13,
      "outputs": [
        {
          "output_type": "display_data",
          "data": {
            "image/png": "[encoded data removed]",
            "text/plain": [
              "<Figure size 576x396 with 2 Axes>"
            ]
          },
          "metadata": {}
        },
        {
          "output_type": "execute_result",
          "data": {
            "text/plain": [
              "<matplotlib.axes._subplots.AxesSubplot at 0x7fce74e34850>"
            ]
          },
          "metadata": {},
          "execution_count": 13
        }
      ]
    },
    {
      "cell_type": "code",
      "metadata": {
        "colab": {
          "base_uri": "https://localhost:8080/",
          "height": 483
        },
        "id": "nF_M2E6cC1Jp",
        "outputId": "13598ace-3532-468d-8901-a3304d37ae6b"
      },
      "source": [
        "#Verify optimal number of clusers on the basis of silhouette scores\n",
        "from sklearn.cluster import KMeans\n",
        "import matplotlib.pyplot as plt\n",
        "from yellowbrick.cluster import SilhouetteVisualizer\n",
        "fig, ax = plt.subplots(3, 2, figsize=(15,8))\n",
        "for i in [2, 3, 4, 5, 6, 7]:\n",
        "   #Create KMeans instance for different number of clusters\n",
        "    km = KMeans(n_clusters=i, init='k-means++', n_init=10, max_iter=100, random_state=42)\n",
        "    q, mod = divmod(i, 2)\n",
        "  #  Create SilhouetteVisualizer instance with KMeans instance\n",
        "    visualizer = SilhouetteVisualizer(km, colors='yellowbrick', ax=ax[q-1][mod])\n",
        "     # Fit the visualizer\n",
        "    visualizer.fit(data_facebook_live_server) \n",
        "\n",
        "    #ANSWER : Hence the optimal clusters are 2 , since other number of the clusters are n0n-uniform thickness "
      ],
      "execution_count": 14,
      "outputs": [
        {
          "output_type": "display_data",
          "data": {
            "image/png": "[encoded data removed]",
            "text/plain": [
              "<Figure size 1080x576 with 6 Axes>"
            ]
          },
          "metadata": {}
        }
      ]
    },
    {
      "cell_type": "code",
      "metadata": {
        "id": "6keKbyfDRT8x"
      },
      "source": [
        "#Assigning cluster label to each instance of the dataframe\n"
      ],
      "execution_count": 15,
      "outputs": []
    },
    {
      "cell_type": "markdown",
      "metadata": {
        "id": "9P9m4XFNF82H"
      },
      "source": [
        "###**Task 3: Perform PCA on Fruit Dataset**\n",
        "\n",
        "Fruit Dataset Link: https://raw.githubusercontent.com/dphi-official/Datasets/master/fruit_data.csv\n",
        "\n",
        "* Use PCA to find the first two principal components of the fruit dataset\n",
        "* Scale the value. Each feature should be centered (zero mean) and with unit variance\n",
        "* Analysis - perform PCA with 4 components and print their explained variance_ratio\n",
        "\n"
      ]
    },
    {
      "cell_type": "markdown",
      "metadata": {
        "id": "VB5lTagmTfUH"
      },
      "source": [
        "<h1>SOLUTION TO THE TASK 3 :UNSUPERVISED LEARNING DPHI </h1>:"
      ]
    },
    {
      "cell_type": "code",
      "metadata": {
        "colab": {
          "base_uri": "https://localhost:8080/",
          "height": 204
        },
        "id": "j9Idd-U0Thf9",
        "outputId": "788c7a24-6f94-4b80-cb7d-ed14c7b5ba59"
      },
      "source": [
        "fruit_data=pd.read_csv(\"/content/drive/MyDrive/Unsupervised Learning /fruit_data.csv\")\n",
        "fruit_data.head()"
      ],
      "execution_count": 16,
      "outputs": [
        {
          "output_type": "execute_result",
          "data": {
            "text/html": [
              "<div>\n",
              "<style scoped>\n",
              "    .dataframe tbody tr th:only-of-type {\n",
              "        vertical-align: middle;\n",
              "    }\n",
              "\n",
              "    .dataframe tbody tr th {\n",
              "        vertical-align: top;\n",
              "    }\n",
              "\n",
              "    .dataframe thead th {\n",
              "        text-align: right;\n",
              "    }\n",
              "</style>\n",
              "<table border=\"1\" class=\"dataframe\">\n",
              "  <thead>\n",
              "    <tr style=\"text-align: right;\">\n",
              "      <th></th>\n",
              "      <th>fruit_label</th>\n",
              "      <th>mass</th>\n",
              "      <th>width</th>\n",
              "      <th>height</th>\n",
              "      <th>color_score</th>\n",
              "    </tr>\n",
              "  </thead>\n",
              "  <tbody>\n",
              "    <tr>\n",
              "      <th>0</th>\n",
              "      <td>1</td>\n",
              "      <td>192</td>\n",
              "      <td>8.4</td>\n",
              "      <td>7.3</td>\n",
              "      <td>0.55</td>\n",
              "    </tr>\n",
              "    <tr>\n",
              "      <th>1</th>\n",
              "      <td>1</td>\n",
              "      <td>180</td>\n",
              "      <td>8.0</td>\n",
              "      <td>6.8</td>\n",
              "      <td>0.59</td>\n",
              "    </tr>\n",
              "    <tr>\n",
              "      <th>2</th>\n",
              "      <td>1</td>\n",
              "      <td>176</td>\n",
              "      <td>7.4</td>\n",
              "      <td>7.2</td>\n",
              "      <td>0.60</td>\n",
              "    </tr>\n",
              "    <tr>\n",
              "      <th>3</th>\n",
              "      <td>2</td>\n",
              "      <td>86</td>\n",
              "      <td>6.2</td>\n",
              "      <td>4.7</td>\n",
              "      <td>0.80</td>\n",
              "    </tr>\n",
              "    <tr>\n",
              "      <th>4</th>\n",
              "      <td>2</td>\n",
              "      <td>84</td>\n",
              "      <td>6.0</td>\n",
              "      <td>4.6</td>\n",
              "      <td>0.79</td>\n",
              "    </tr>\n",
              "  </tbody>\n",
              "</table>\n",
              "</div>"
            ],
            "text/plain": [
              "   fruit_label  mass  width  height  color_score\n",
              "0            1   192    8.4     7.3         0.55\n",
              "1            1   180    8.0     6.8         0.59\n",
              "2            1   176    7.4     7.2         0.60\n",
              "3            2    86    6.2     4.7         0.80\n",
              "4            2    84    6.0     4.6         0.79"
            ]
          },
          "metadata": {},
          "execution_count": 16
        }
      ]
    },
    {
      "cell_type": "code",
      "metadata": {
        "id": "nGCcJH5MbUs8"
      },
      "source": [
        "#Scale the value. Each feature should be centered (zero mean) and with unit variance\n",
        "from sklearn.preprocessing import MinMaxScaler\n",
        "from sklearn.preprocessing import StandardScaler\n",
        "scaler_two=StandardScaler()\n",
        "fruit_data_scaled=scaler_two.fit_transform(fruit_data)\n",
        "fruit_data=pd.DataFrame(fruit_data_scaled,columns=fruit_data.columns)"
      ],
      "execution_count": 17,
      "outputs": []
    },
    {
      "cell_type": "code",
      "metadata": {
        "colab": {
          "base_uri": "https://localhost:8080/",
          "height": 204
        },
        "id": "3pvEwt_fT-zP",
        "outputId": "7b278f5a-4aa4-4067-d68d-47d3a5cedd46"
      },
      "source": [
        "#Use PCA to find the first two principal components of the fruit dataset\n",
        "from sklearn.decomposition import PCA\n",
        "pca = PCA(n_components=2)\n",
        "fruit_data_reduced = pca.fit_transform(fruit_data)\n",
        "principal_data_fruit = pd.DataFrame(fruit_data\n",
        "             , columns = ['principal component 1', 'principal component 2'])\n",
        "principal_data_fruit.head()"
      ],
      "execution_count": 18,
      "outputs": [
        {
          "output_type": "execute_result",
          "data": {
            "text/html": [
              "<div>\n",
              "<style scoped>\n",
              "    .dataframe tbody tr th:only-of-type {\n",
              "        vertical-align: middle;\n",
              "    }\n",
              "\n",
              "    .dataframe tbody tr th {\n",
              "        vertical-align: top;\n",
              "    }\n",
              "\n",
              "    .dataframe thead th {\n",
              "        text-align: right;\n",
              "    }\n",
              "</style>\n",
              "<table border=\"1\" class=\"dataframe\">\n",
              "  <thead>\n",
              "    <tr style=\"text-align: right;\">\n",
              "      <th></th>\n",
              "      <th>principal component 1</th>\n",
              "      <th>principal component 2</th>\n",
              "    </tr>\n",
              "  </thead>\n",
              "  <tbody>\n",
              "    <tr>\n",
              "      <th>0</th>\n",
              "      <td>NaN</td>\n",
              "      <td>NaN</td>\n",
              "    </tr>\n",
              "    <tr>\n",
              "      <th>1</th>\n",
              "      <td>NaN</td>\n",
              "      <td>NaN</td>\n",
              "    </tr>\n",
              "    <tr>\n",
              "      <th>2</th>\n",
              "      <td>NaN</td>\n",
              "      <td>NaN</td>\n",
              "    </tr>\n",
              "    <tr>\n",
              "      <th>3</th>\n",
              "      <td>NaN</td>\n",
              "      <td>NaN</td>\n",
              "    </tr>\n",
              "    <tr>\n",
              "      <th>4</th>\n",
              "      <td>NaN</td>\n",
              "      <td>NaN</td>\n",
              "    </tr>\n",
              "  </tbody>\n",
              "</table>\n",
              "</div>"
            ],
            "text/plain": [
              "   principal component 1  principal component 2\n",
              "0                    NaN                    NaN\n",
              "1                    NaN                    NaN\n",
              "2                    NaN                    NaN\n",
              "3                    NaN                    NaN\n",
              "4                    NaN                    NaN"
            ]
          },
          "metadata": {},
          "execution_count": 18
        }
      ]
    },
    {
      "cell_type": "code",
      "metadata": {
        "colab": {
          "base_uri": "https://localhost:8080/"
        },
        "id": "HZ1qL2URZq--",
        "outputId": "48700988-971e-490f-a4ef-5d5a8b3606ce"
      },
      "source": [
        "#Analysis - perform PCA with 4 components and print their explained variance_ratio\n",
        "from sklearn.decomposition import PCA\n",
        "pca = PCA(n_components=4)\n",
        "fruit_data_reduced = pca.fit_transform(fruit_data)\n",
        "principal_data_fruit = pd.DataFrame(fruit_data\n",
        "             , columns = ['principal component 1', 'principal component 2','principal component 3','principal component 4'])\n",
        "print('Explained variation per principal component: {}'.format(pca.explained_variance_ratio_))"
      ],
      "execution_count": 19,
      "outputs": [
        {
          "output_type": "stream",
          "name": "stdout",
          "text": [
            "Explained variation per principal component: [0.46714596 0.31485849 0.16064024 0.04624694]\n"
          ]
        }
      ]
    }
  ]
}